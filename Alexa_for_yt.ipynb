{
 "cells": [
  {
   "cell_type": "code",
   "execution_count": 1,
   "metadata": {},
   "outputs": [
    {
     "name": "stdout",
     "output_type": "stream",
     "text": [
      "You said: say so\n"
     ]
    },
    {
     "data": {
      "text/plain": [
       "True"
      ]
     },
     "execution_count": 1,
     "metadata": {},
     "output_type": "execute_result"
    }
   ],
   "source": [
    "##############################################################################################################################################################\n",
    "## Alexa for YouTube\n",
    "##############################################################################################################################################################\n",
    "## Description: This program listens to your voice and plays music and videos on YouTube\n",
    "##############################################################################################################################################################\n",
    "## Readme:\n",
    "## \n",
    "## Install libraries:\n",
    "##     - pip install requests\n",
    "##     - pip install pyaudio / conda install pyaudio (https://stackoverflow.com/questions/51992375/python-package-installation-issues-pyaudio-portaudio/52191687)\n",
    "##     - pip install beautifulsoup4\n",
    "## or with one liner:\n",
    "##     - pip install requests beautifulsoup4 pyaudio\n",
    "## \n",
    "## Troubleshooting errors:\n",
    "##     1) error: Microsoft Visual C++ 14.0 is required. Get it with \"Build Tools for Visual Studio\": https://visualstudio.microsoft.com/downloads/\n",
    "##         #1 Downloaded Microsoft Visual C++ Build Tools from this link: https://visualstudio.microsoft.com/downloads/\n",
    "##         #2 Run the installer\n",
    "##         #3 Workloads → C++ build tools.\n",
    "##         #4 Installation details → select 'MSVC v142 - VS 2019 C++ x64/x86 build tools...' and 'Windows 10 SDK'\n",
    "##     Instructions from: https://www.scivision.co/python-windows-visual-c++-14-required/\n",
    "##\n",
    "##     If you still have the error:\n",
    "##         - pip install --upgrade setuptools\n",
    "## \n",
    "## How to use the program: just run it and say the song you want to listen to\n",
    "\n",
    "## To Do: open in same tab with selenium + key press to stop execution + gui + keyword (needs offline package)\n",
    "## from pocketsphinx import LiveSpeech\n",
    "#import os\n",
    "#for i in LiveSpeech():\n",
    "#    print(i)\n",
    "#    if \"hey Google\" in str(i):\n",
    "#       do stuff                       \n",
    "##############################################################################################################################################################\n",
    "\n",
    "### 0) Import libraries\n",
    "import speech_recognition as sr   # to recognize speech\n",
    "import requests                   # to make HTTP request\n",
    "from bs4 import BeautifulSoup     # to parse html\n",
    "import webbrowser                 # to open url in browser\n",
    "import re\n",
    "\n",
    "### 1) Set parameters\n",
    "base_url = \"http://www.youtube.com/watch?v=\"\n",
    "watch_pattern = r'/watch\\?v=(.{11})'                         # returns the 11 characters after '/watch\\?v=' in the url\n",
    "search_url = \"http://www.youtube.com/results?search_query=\"\n",
    "\n",
    "r = sr.Recognizer()   # create recognizer instance of Recognizer class\n",
    "mic = sr.Microphone() # set default microphone (create microphone instance of Microphone class)\n",
    "\n",
    "### 2) Build Alexa for YouTube\n",
    "# use microphone as audio source\n",
    "with mic as source:                                                                                                                                                     \n",
    "    # listen for 1 second to calibrate the energy threshold for ambient noise levels\n",
    "    r.adjust_for_ambient_noise(source)\n",
    "\n",
    "    # now when we listen, the energy threshold is already set to a good value, and we can reliably catch speech right away\n",
    "    audio = r.listen(source)            \n",
    "\n",
    "# get text from audio\n",
    "try:\n",
    "    # recognize speech using Google Speech Recognition and convert to text\n",
    "    txt = r.recognize_google(audio)\n",
    "    print(\"You said: \" + txt)\n",
    "except LookupError:                            \n",
    "    # speech is unintelligible\n",
    "    print(\"Oops! Didn't catch that.\")\n",
    "\n",
    "# split text to list of words \n",
    "search_words=txt.split(' ')\n",
    "\n",
    "# create youtube link\n",
    "search_link = search_url + '+'.join(search_words)\n",
    "\n",
    "# create get requests and save response to variable \n",
    "search_result = requests.get(search_link).text\n",
    "\n",
    "# parse html and save content to variable as text\n",
    "html_content = str(BeautifulSoup(search_result, 'html.parser'))\n",
    "\n",
    "# get song ids (part of url) from html content\n",
    "search_results = re.findall(watch_pattern, html_content)\n",
    "\n",
    "# select first hit from youtube search results\n",
    "song_url = base_url+search_results[0]\n",
    "\n",
    "# open new tab in web browser and play the song\n",
    "webbrowser.open_new_tab(song_url)"
   ]
  },
  {
   "cell_type": "code",
   "execution_count": null,
   "metadata": {},
   "outputs": [],
   "source": []
  },
  {
   "cell_type": "code",
   "execution_count": null,
   "metadata": {},
   "outputs": [],
   "source": []
  }
 ],
 "metadata": {
  "kernelspec": {
   "display_name": "Python 3",
   "language": "python",
   "name": "python3"
  },
  "language_info": {
   "codemirror_mode": {
    "name": "ipython",
    "version": 3
   },
   "file_extension": ".py",
   "mimetype": "text/x-python",
   "name": "python",
   "nbconvert_exporter": "python",
   "pygments_lexer": "ipython3",
   "version": "3.7.3"
  }
 },
 "nbformat": 4,
 "nbformat_minor": 2
}
